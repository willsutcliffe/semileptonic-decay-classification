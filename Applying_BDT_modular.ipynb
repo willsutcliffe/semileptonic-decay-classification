{
 "cells": [
  {
   "cell_type": "markdown",
   "metadata": {},
   "source": [
    "# Applying BDT "
   ]
  },
  {
   "cell_type": "markdown",
   "metadata": {},
   "source": [
    "# Event processing"
   ]
  },
  {
   "cell_type": "code",
   "execution_count": 1,
   "metadata": {},
   "outputs": [
    {
     "name": "stdout",
     "output_type": "stream",
     "text": [
      "Welcome to JupyROOT 6.16/00\n"
     ]
    },
    {
     "name": "stderr",
     "output_type": "stream",
     "text": [
      "/home/sutclw/anaconda3/lib/python3.7/site-packages/ipykernel_launcher.py:33: FutureWarning: Sorting because non-concatenation axis is not aligned. A future version\n",
      "of pandas will change to not sort by default.\n",
      "\n",
      "To accept the future behavior, pass 'sort=False'.\n",
      "\n",
      "To retain the current behavior and silence the warning, pass 'sort=True'.\n",
      "\n",
      "/home/sutclw/anaconda3/lib/python3.7/site-packages/ipykernel_launcher.py:34: FutureWarning: Sorting because non-concatenation axis is not aligned. A future version\n",
      "of pandas will change to not sort by default.\n",
      "\n",
      "To accept the future behavior, pass 'sort=False'.\n",
      "\n",
      "To retain the current behavior and silence the warning, pass 'sort=True'.\n",
      "\n"
     ]
    }
   ],
   "source": [
    "from root_pandas import read_root\n",
    "import pandas as  pd\n",
    "base = '/home/sutclw/Work/Analysis/b2ulnu/Data/B2GM_June_2019/20190516_BGM_2/'\n",
    "df_clnu_md_gen = read_root(base +'generic/s1/tag_corr/bingen_md_s1_pre_selected_20190516_tagCorr.root','tree')\n",
    "df_clnu_ch_gen = read_root(base +'generic/s1/tag_corr/bingen_ch_s1_pre_selected_20190516_tagCorr.root','tree')\n",
    "\n",
    "Dlnu_ch_BGM_ffs = pd.read_pickle(base + 'generic/s1/clnu_FF/Dlnu_ch_BGM_s1_ffs.pickle')\n",
    "Dlnu_md_BGM_ffs = pd.read_pickle(base + 'generic/s1/clnu_FF/Dlnu_md_BGM_s1_ffs.pickle')\n",
    "Dstlnu_ch_BGM_ffs = pd.read_pickle(base + 'generic/s1/clnu_FF/Dstlnu_ch_BGM_s1_ffs.pickle')\n",
    "Dstlnu_md_BGM_ffs = pd.read_pickle(base + 'generic/s1/clnu_FF/Dstlnu_md_BGM_s1_ffs.pickle')\n",
    "\n",
    "df_dstst_ch = read_root(base + 'Dstst/Dstst_FFs/Dstst_ch_s1_pre_selected_20190516_FF.root', 'tree')\n",
    "df_dstst_md = read_root(base + 'Dstst/Dstst_FFs/Dstst_md_s1_pre_selected_20190516_FF.root', 'tree')\n",
    "df_gap_ch = read_root(base + 'Gap/s0/Gap_ch_s1_pre_selected_20190516_tagCorr.root', 'tree')\n",
    "df_gap_md = read_root(base + 'Gap/s0/Gap_ch_s1_pre_selected_20190516_tagCorr.root', 'tree')\n",
    "df_clnu_ch = pd.concat([df_clnu_ch_gen, Dlnu_ch_BGM_ffs, Dstlnu_ch_BGM_ffs], axis=1)\n",
    "df_clnu_md = pd.concat([df_clnu_md_gen, Dlnu_md_BGM_ffs, Dstlnu_md_BGM_ffs], axis=1)\n",
    "def mask_dstst_gap(df):\n",
    "    \n",
    "    xlv_decay = abs(df.event_lclass) ==2\n",
    "    \n",
    "    gap = xlv_decay & (df.event_dclass.isin([2,4,9,10]))\n",
    "    dstst = xlv_decay & (df.event_dclass.isin([5,6,7,8]))\n",
    "    # skip old gap and D**\n",
    "    df_mask = df[~(gap | dstst)]\n",
    "    return df_mask\n",
    "\n",
    "\n",
    "df_clnu_md_mask = mask_dstst_gap(df_clnu_md)\n",
    "df_clnu_ch_mask = mask_dstst_gap(df_clnu_ch)\n",
    "del df_clnu_md, df_clnu_ch\n",
    "\n",
    "df_clnu_md = pd.concat([df_clnu_md_mask, df_dstst_md, df_gap_md], ignore_index=True)\n",
    "df_clnu_ch = pd.concat([df_clnu_ch_mask, df_dstst_ch, df_gap_ch], ignore_index=True)\n",
    "DstFFcols = [col for col in  df_dstst_md.columns if 'FF'  in col]\n",
    "list1 = list(Dlnu_ch_BGM_ffs.columns)+list(Dstlnu_ch_BGM_ffs)+DstFFcols\n",
    "del(df_dstst_ch)\n",
    "del(df_dstst_md)\n",
    "del(df_gap_ch )\n",
    "\n",
    "del df_clnu_md_mask, df_clnu_ch_mask\n",
    "del(Dlnu_ch_BGM_ffs)\n",
    "del(Dlnu_md_BGM_ffs)\n",
    "dictionary = dict(zip(list1, len(list1)*[1]))\n",
    "def TotalWeight(df,columns,newname):\n",
    "    df[newname] = 1\n",
    "    for col in columns:\n",
    "        df[newname] = df[newname]*df[col]\n",
    "df_clnu_md_filled =df_clnu_md.fillna(value=dictionary)\n",
    "df_clnu_ch_filled=df_clnu_ch.fillna(value=dictionary)\n",
    "del(df_clnu_md)\n",
    "del(df_clnu_ch)\n",
    "        "
   ]
  },
  {
   "cell_type": "code",
   "execution_count": 5,
   "metadata": {},
   "outputs": [
    {
     "name": "stderr",
     "output_type": "stream",
     "text": [
      "/home/sutclw/anaconda3/lib/python3.7/site-packages/ipykernel_launcher.py:15: RuntimeWarning: invalid value encountered in log10\n",
      "  from ipykernel import kernelapp as app\n"
     ]
    }
   ],
   "source": [
    "import matplotlib.pyplot as plt\n",
    "import pandas as pd\n",
    "import numpy as np\n",
    "\n",
    "from BDT.EventPreprocessor import EventPreprocessor\n",
    "\n",
    "base = '/home/sutclw/Work/Analysis/b2ulnu/Data/B2GM_June_2019/20190516_BGM_2/generic/s0/tag_corr/'\n",
    "data = { 'charm' :base + 'bincharm_s0_pre_selected_20190516_tagCorr.root',\n",
    "         'uds' : base + 'binuds_s0_pre_selected_20190516_tagCorr.root '}\n",
    "\n",
    "# Do common event processing on datasets \n",
    "p = EventPreprocessor(data,'tree',usereadroot=True)\n",
    "p.MultiplyWeights(['PID_w_0','ks_w_0','slowpi_w_0','tag_w_0'],'tot_w_0')\n",
    "p.Combine(('uds','uds'),('charm','c'),'cont','BMeson')\n",
    "p.AddNewColumnToAll('vertexfit', lambda df: np.where((df['gx_vtx_chi2']>0)&(df['gx_vtx_dgf']>0), np.log10(df.gx_vtx_chi2/df.gx_vtx_dgf), -100))\n",
    "p.FillNaNs(10000)\n",
    "p.AddNewColumnToX('_hybridweight_', lambda df: 1,'cont')\n",
    "\n",
    "\n",
    "\n",
    "# Get data back from event processor split into ulnu and clnu \n",
    "cont = p.GetDataframe('cont')\n",
    "\n",
    "# Split into B0 and B+\n",
    "B0_cont_data = cont.query('((abs(btag_pcode_b) == 511))')\n",
    "BP_cont_data = cont.query('((abs(btag_pcode_b) != 511))')"
   ]
  },
  {
   "cell_type": "code",
   "execution_count": null,
   "metadata": {},
   "outputs": [],
   "source": []
  },
  {
   "cell_type": "markdown",
   "metadata": {},
   "source": [
    "# Load Weights and Apply"
   ]
  },
  {
   "cell_type": "code",
   "execution_count": 6,
   "metadata": {},
   "outputs": [],
   "source": [
    "from importlib import reload \n",
    "import BDT\n",
    "#reload(BDT.XGBoostInference)\n",
    "from BDT.XGBoostInference import XGBoostInference\n",
    "features = ['gmiss_m2','event_nlep', 'event_q','event_nk', 'event_nks', 'veto_slowCharPi_missM2', 'veto_slowNeuPi_missM2', 'vertexfit', 'veto_slowNeuPi_cos_ThetaC', 'veto_slowCharPi_cos_ThetaC', 'veto_slowCharPi_cos_BY', 'veto_slowNeuPi_cos_BY']\n",
    "B0_inferer = XGBoostInference('mixed_BDT',features)\n",
    "BP_inferer = XGBoostInference('charged_BDT',features)\n",
    "B0_inferer.SetData(B0_cont_data)\n",
    "B0_inferer.Apply()\n",
    "BP_inferer.SetData(BP_cont_data)\n",
    "BP_inferer.Apply()\n"
   ]
  },
  {
   "cell_type": "markdown",
   "metadata": {},
   "source": [
    "# Save Data"
   ]
  },
  {
   "cell_type": "code",
   "execution_count": 7,
   "metadata": {},
   "outputs": [],
   "source": [
    "from BDT.EventPreprocessor import EventPreprocessor\n",
    "data = {}\n",
    "data['cont_ch'] = BP_inferer.GetData()\n",
    "data['cont_md'] = B0_inferer.GetData()\n",
    "outp = EventPreprocessor(data,'tree')\n",
    "outp.CombineMultiple(['cont_ch','cont_md'],'cont')\n",
    "outp.ApplyOneMask(\"BMeson == 'c'\",'cont','charm')\n",
    "outp.ApplyOneMask(\"BMeson == 'uds'\",'cont','uds')\n",
    "outp.WriteFile('charm','charm_s0_BDT.root')\n",
    "outp.WriteFile('uds','uds_s0_BDT.root')\n"
   ]
  },
  {
   "cell_type": "code",
   "execution_count": 7,
   "metadata": {},
   "outputs": [
    {
     "ename": "NameError",
     "evalue": "name 'df_clnu_ch_filled' is not defined",
     "output_type": "error",
     "traceback": [
      "\u001b[0;31m---------------------------------------------------------------------------\u001b[0m",
      "\u001b[0;31mNameError\u001b[0m                                 Traceback (most recent call last)",
      "\u001b[0;32m<ipython-input-7-9a4b862ce80e>\u001b[0m in \u001b[0;36m<module>\u001b[0;34m\u001b[0m\n\u001b[0;32m----> 1\u001b[0;31m \u001b[0mdf_clnu_ch_filled\u001b[0m\u001b[0;34m\u001b[0m\u001b[0;34m\u001b[0m\u001b[0m\n\u001b[0m",
      "\u001b[0;31mNameError\u001b[0m: name 'df_clnu_ch_filled' is not defined"
     ]
    }
   ],
   "source": [
    "df_clnu_ch_filled"
   ]
  },
  {
   "cell_type": "code",
   "execution_count": 2,
   "metadata": {},
   "outputs": [
    {
     "name": "stderr",
     "output_type": "stream",
     "text": [
      "/home/sutclw/anaconda3/lib/python3.7/site-packages/ipykernel_launcher.py:23: RuntimeWarning: invalid value encountered in log10\n"
     ]
    }
   ],
   "source": [
    "import BDT\n",
    "#reload(BDT.EventPreprocessor)\n",
    "from BDT.EventPreprocessor import EventPreprocessor\n",
    "import numpy as np\n",
    "data = { \n",
    "        'clnu_ch' : df_clnu_ch_filled,\n",
    "         'clnu_md' : df_clnu_md_filled}\n",
    "\n",
    "\n",
    "# Do common event processing on datasets \n",
    "p = EventPreprocessor(data,'tree')\n",
    "p.Combine(('clnu_ch','ch'),('clnu_md','md'),'clnu','BMeson')\n",
    "p.MultiplyWeights(['PID_w_0',\n",
    " 'ks_w_0',\n",
    " 'slowpi_w_0',\n",
    " 'tag_w_0',\n",
    " 'Dlnu_FF_weight',\n",
    " 'Dstlnu_FF_weight',\n",
    " 'FF_Done_nominal',\n",
    " 'FF_Dprimeone_nominal',\n",
    " 'FF_Dtwostar_nominal',\n",
    " 'FF_Dzerostar_nominal'],'tot_w_0')\n",
    "p.AddNewColumnToAll('vertexfit', lambda df: np.where((df['gx_vtx_chi2']>0)&(df['gx_vtx_dgf']>0), np.log10(df.gx_vtx_chi2/df.gx_vtx_dgf), -100))\n",
    "p.FillNaNs(10000)\n",
    "\n",
    "\n",
    "# Get data back from event processor split into ulnu and clnu \n",
    "\n",
    "clnu = p.GetDataframe('clnu')\n",
    "\n",
    "#Append data\n",
    "\n",
    "\n",
    "# Split into B0 and B+\n",
    "B0_data = clnu.query('((abs(btag_pcode_b) == 511))')\n",
    "BP_data = clnu.query('((abs(btag_pcode_b) != 511))')\n"
   ]
  },
  {
   "cell_type": "code",
   "execution_count": 3,
   "metadata": {},
   "outputs": [
    {
     "data": {
      "text/html": [
       "<div>\n",
       "<style scoped>\n",
       "    .dataframe tbody tr th:only-of-type {\n",
       "        vertical-align: middle;\n",
       "    }\n",
       "\n",
       "    .dataframe tbody tr th {\n",
       "        vertical-align: top;\n",
       "    }\n",
       "\n",
       "    .dataframe thead th {\n",
       "        text-align: right;\n",
       "    }\n",
       "</style>\n",
       "<table border=\"1\" class=\"dataframe\">\n",
       "  <thead>\n",
       "    <tr style=\"text-align: right;\">\n",
       "      <th></th>\n",
       "      <th>Dgam_FF_downweight0</th>\n",
       "      <th>Dgam_FF_downweight1</th>\n",
       "      <th>Dgam_FF_downweight2</th>\n",
       "      <th>Dgam_FF_downweight3</th>\n",
       "      <th>Dgam_FF_downweight4</th>\n",
       "      <th>Dgam_FF_downweight5</th>\n",
       "      <th>Dgam_FF_upweight0</th>\n",
       "      <th>Dgam_FF_upweight1</th>\n",
       "      <th>Dgam_FF_upweight2</th>\n",
       "      <th>Dgam_FF_upweight3</th>\n",
       "      <th>...</th>\n",
       "      <th>veto_slowNeuPi_Pi_pc</th>\n",
       "      <th>veto_slowNeuPi_allPi_pc</th>\n",
       "      <th>veto_slowNeuPi_cos_BY</th>\n",
       "      <th>veto_slowNeuPi_cos_ThetaC</th>\n",
       "      <th>veto_slowNeuPi_missM2</th>\n",
       "      <th>veto_slowNeuPi_q2</th>\n",
       "      <th>BMeson</th>\n",
       "      <th>Index</th>\n",
       "      <th>tot_w_0</th>\n",
       "      <th>vertexfit</th>\n",
       "    </tr>\n",
       "  </thead>\n",
       "  <tbody>\n",
       "  </tbody>\n",
       "</table>\n",
       "<p>0 rows × 550 columns</p>\n",
       "</div>"
      ],
      "text/plain": [
       "Empty DataFrame\n",
       "Columns: [Dgam_FF_downweight0, Dgam_FF_downweight1, Dgam_FF_downweight2, Dgam_FF_downweight3, Dgam_FF_downweight4, Dgam_FF_downweight5, Dgam_FF_upweight0, Dgam_FF_upweight1, Dgam_FF_upweight2, Dgam_FF_upweight3, Dgam_FF_upweight4, Dgam_FF_upweight5, Dlnu_FF_downweight0, Dlnu_FF_downweight1, Dlnu_FF_downweight2, Dlnu_FF_downweight3, Dlnu_FF_upweight0, Dlnu_FF_upweight1, Dlnu_FF_upweight2, Dlnu_FF_upweight3, Dlnu_FF_weight, Dpi_FF_downweight0, Dpi_FF_downweight1, Dpi_FF_downweight2, Dpi_FF_downweight3, Dpi_FF_downweight4, Dpi_FF_downweight5, Dpi_FF_upweight0, Dpi_FF_upweight1, Dpi_FF_upweight2, Dpi_FF_upweight3, Dpi_FF_upweight4, Dpi_FF_upweight5, Dstlnu_FF_weight, FF_Done_down_0, FF_Done_down_1, FF_Done_down_2, FF_Done_down_3, FF_Done_nominal, FF_Done_up_0, FF_Done_up_1, FF_Done_up_2, FF_Done_up_3, FF_Dprimeone_down_0, FF_Dprimeone_down_1, FF_Dprimeone_down_2, FF_Dprimeone_nominal, FF_Dprimeone_up_0, FF_Dprimeone_up_1, FF_Dprimeone_up_2, FF_Dtwostar_down_0, FF_Dtwostar_down_1, FF_Dtwostar_down_2, FF_Dtwostar_down_3, FF_Dtwostar_nominal, FF_Dtwostar_up_0, FF_Dtwostar_up_1, FF_Dtwostar_up_2, FF_Dtwostar_up_3, FF_Dzerostar_down_0, FF_Dzerostar_down_1, FF_Dzerostar_down_2, FF_Dzerostar_nominal, FF_Dzerostar_up_0, FF_Dzerostar_up_1, FF_Dzerostar_up_2, PID_fake_k2e_w_1, PID_fake_k2e_w_10, PID_fake_k2e_w_11, PID_fake_k2e_w_12, PID_fake_k2e_w_13, PID_fake_k2e_w_14, PID_fake_k2e_w_15, PID_fake_k2e_w_16, PID_fake_k2e_w_17, PID_fake_k2e_w_18, PID_fake_k2e_w_19, PID_fake_k2e_w_2, PID_fake_k2e_w_20, PID_fake_k2e_w_3, PID_fake_k2e_w_4, PID_fake_k2e_w_5, PID_fake_k2e_w_6, PID_fake_k2e_w_7, PID_fake_k2e_w_8, PID_fake_k2e_w_9, PID_fake_k2mu_w_1, PID_fake_k2mu_w_10, PID_fake_k2mu_w_11, PID_fake_k2mu_w_12, PID_fake_k2mu_w_13, PID_fake_k2mu_w_14, PID_fake_k2mu_w_15, PID_fake_k2mu_w_16, PID_fake_k2mu_w_17, PID_fake_k2mu_w_18, PID_fake_k2mu_w_19, PID_fake_k2mu_w_2, PID_fake_k2mu_w_20, PID_fake_k2mu_w_3, ...]\n",
       "Index: []\n",
       "\n",
       "[0 rows x 550 columns]"
      ]
     },
     "execution_count": 3,
     "metadata": {},
     "output_type": "execute_result"
    }
   ],
   "source": [
    "B0_data[np.isnan(B0_data['tot_w_0'])]"
   ]
  },
  {
   "cell_type": "code",
   "execution_count": 4,
   "metadata": {},
   "outputs": [
    {
     "name": "stderr",
     "output_type": "stream",
     "text": [
      "/home/sutclw/anaconda3/lib/python3.7/site-packages/pandas/core/indexing.py:362: SettingWithCopyWarning: \n",
      "A value is trying to be set on a copy of a slice from a DataFrame.\n",
      "Try using .loc[row_indexer,col_indexer] = value instead\n",
      "\n",
      "See the caveats in the documentation: http://pandas.pydata.org/pandas-docs/stable/indexing.html#indexing-view-versus-copy\n",
      "  self.obj[key] = _infer_fill_value(value)\n",
      "/home/sutclw/anaconda3/lib/python3.7/site-packages/pandas/core/indexing.py:543: SettingWithCopyWarning: \n",
      "A value is trying to be set on a copy of a slice from a DataFrame.\n",
      "Try using .loc[row_indexer,col_indexer] = value instead\n",
      "\n",
      "See the caveats in the documentation: http://pandas.pydata.org/pandas-docs/stable/indexing.html#indexing-view-versus-copy\n",
      "  self.obj[item] = s\n"
     ]
    }
   ],
   "source": [
    "import BDT\n",
    "#reload(BDT.XGBoostInference)\n",
    "from BDT.XGBoostInference import XGBoostInference\n",
    "features = ['gmiss_m2','event_nlep', 'event_q','event_nk', 'event_nks', 'veto_slowCharPi_missM2', 'veto_slowNeuPi_missM2', 'vertexfit', 'veto_slowNeuPi_cos_ThetaC', 'veto_slowCharPi_cos_ThetaC', 'veto_slowCharPi_cos_BY', 'veto_slowNeuPi_cos_BY']\n",
    "B0_inferer = XGBoostInference('mixed_BDT',features)\n",
    "BP_inferer = XGBoostInference('charged_BDT',features)\n",
    "B0_inferer.SetData(B0_data)\n",
    "B0_inferer.Apply()\n",
    "BP_inferer.SetData(BP_data)\n",
    "BP_inferer.Apply()"
   ]
  },
  {
   "cell_type": "code",
   "execution_count": 5,
   "metadata": {},
   "outputs": [
    {
     "name": "stderr",
     "output_type": "stream",
     "text": [
      "/home/sutclw/anaconda3/lib/python3.7/site-packages/root_numpy/_tree.py:575: UserWarning: converter for dtype('O') is not implemented (skipping)\n",
      "  cobj = _librootnumpy.array2tree_toCObj(arr, name=name, tree=incobj)\n"
     ]
    }
   ],
   "source": [
    "from BDT.EventPreprocessor import EventPreprocessor\n",
    "\n",
    "data = {}\n",
    "data['clnu_ch'] = BP_inferer.GetData()\n",
    "data['clnu_md'] = B0_inferer.GetData()\n",
    "outp = EventPreprocessor(data,'tree')\n",
    "outp.CombineMultiple(['clnu_ch','clnu_md'],'clnu')\n",
    "outp.ApplyOneMask(\"BMeson == 'ch'\",'clnu','clnu_charged')\n",
    "outp.ApplyOneMask(\"BMeson == 'md'\",'clnu','clnu_mixed')\n",
    "outp.WriteFile('clnu_mixed','clnu_md_s1_BDT.root')\n",
    "outp.WriteFile('clnu_charged','clnu_ch_s1_BDT.root')"
   ]
  },
  {
   "cell_type": "code",
   "execution_count": 1,
   "metadata": {},
   "outputs": [
    {
     "name": "stdout",
     "output_type": "stream",
     "text": [
      "Welcome to JupyROOT 6.16/00\n"
     ]
    }
   ],
   "source": [
    "from root_pandas import read_root\n",
    "df_data = read_root('/home/sutclw/Work/Analysis/b2ulnu/Data/B2GM_June_2019/20190516_BGM_2/data/pre_sel_generic/bindata_pre_selected_20190516.root')"
   ]
  },
  {
   "cell_type": "code",
   "execution_count": 2,
   "metadata": {},
   "outputs": [
    {
     "name": "stderr",
     "output_type": "stream",
     "text": [
      "/home/sutclw/anaconda3/lib/python3.7/site-packages/ipykernel_launcher.py:10: RuntimeWarning: invalid value encountered in log10\n",
      "  # Remove the CWD from sys.path while we load stuff.\n"
     ]
    }
   ],
   "source": [
    "import BDT\n",
    "from BDT.EventPreprocessor import EventPreprocessor\n",
    "import numpy as np\n",
    "df_data['Index']= df_data.index\n",
    "data = { \n",
    "        'data' : df_data\n",
    "}\n",
    "p = EventPreprocessor(data,'tree')\n",
    "\n",
    "p.AddNewColumnToAll('vertexfit', lambda df: np.where((df['gx_vtx_chi2']>0)&(df['gx_vtx_dgf']>0), np.log10(df.gx_vtx_chi2/df.gx_vtx_dgf), -100))\n",
    "p.FillNaNs(10000)\n",
    "\n",
    "\n",
    "# Get data back from event processor split into ulnu and clnu \n",
    "\n",
    "data = p.GetDataframe('data')\n",
    "\n",
    "#Append data\n",
    "\n",
    "\n",
    "# Split into B0 and B+\n",
    "B0_data = data.query('((abs(btag_pcode_b) == 511))')\n",
    "BP_data = data.query('((abs(btag_pcode_b) != 511))')"
   ]
  },
  {
   "cell_type": "code",
   "execution_count": 3,
   "metadata": {},
   "outputs": [
    {
     "name": "stderr",
     "output_type": "stream",
     "text": [
      "/home/sutclw/anaconda3/lib/python3.7/site-packages/pandas/core/indexing.py:362: SettingWithCopyWarning: \n",
      "A value is trying to be set on a copy of a slice from a DataFrame.\n",
      "Try using .loc[row_indexer,col_indexer] = value instead\n",
      "\n",
      "See the caveats in the documentation: http://pandas.pydata.org/pandas-docs/stable/indexing.html#indexing-view-versus-copy\n",
      "  self.obj[key] = _infer_fill_value(value)\n",
      "/home/sutclw/anaconda3/lib/python3.7/site-packages/pandas/core/indexing.py:543: SettingWithCopyWarning: \n",
      "A value is trying to be set on a copy of a slice from a DataFrame.\n",
      "Try using .loc[row_indexer,col_indexer] = value instead\n",
      "\n",
      "See the caveats in the documentation: http://pandas.pydata.org/pandas-docs/stable/indexing.html#indexing-view-versus-copy\n",
      "  self.obj[item] = s\n"
     ]
    }
   ],
   "source": [
    "import BDT\n",
    "#reload(BDT.XGBoostInference)\n",
    "from BDT.XGBoostInference import XGBoostInference\n",
    "features = ['gmiss_m2','event_nlep', 'event_q','event_nk', 'event_nks', 'veto_slowCharPi_missM2', 'veto_slowNeuPi_missM2', 'vertexfit', 'veto_slowNeuPi_cos_ThetaC', 'veto_slowCharPi_cos_ThetaC', 'veto_slowCharPi_cos_BY', 'veto_slowNeuPi_cos_BY']\n",
    "B0_inferer = XGBoostInference('mixed_BDT',features)\n",
    "BP_inferer = XGBoostInference('charged_BDT',features)\n",
    "B0_inferer.SetData(B0_data)\n",
    "B0_inferer.Apply()\n",
    "BP_inferer.SetData(BP_data)\n",
    "BP_inferer.Apply()"
   ]
  },
  {
   "cell_type": "code",
   "execution_count": 4,
   "metadata": {},
   "outputs": [
    {
     "name": "stderr",
     "output_type": "stream",
     "text": [
      "/home/sutclw/anaconda3/lib/python3.7/site-packages/root_numpy/_tree.py:575: UserWarning: converter for dtype('O') is not implemented (skipping)\n",
      "  cobj = _librootnumpy.array2tree_toCObj(arr, name=name, tree=incobj)\n"
     ]
    }
   ],
   "source": [
    "from BDT.EventPreprocessor import EventPreprocessor\n",
    "\n",
    "data = {}\n",
    "data['data_ch'] = BP_inferer.GetData()\n",
    "data['data_md'] = B0_inferer.GetData()\n",
    "outp = EventPreprocessor(data,'tree')\n",
    "outp.CombineMultiple(['data_ch','data_md'],'datatotal')\n",
    "outp.WriteFile('datatotal','data_BDT_20190516.root')\n"
   ]
  },
  {
   "cell_type": "code",
   "execution_count": null,
   "metadata": {},
   "outputs": [],
   "source": []
  },
  {
   "cell_type": "code",
   "execution_count": null,
   "metadata": {},
   "outputs": [],
   "source": []
  },
  {
   "cell_type": "code",
   "execution_count": null,
   "metadata": {},
   "outputs": [],
   "source": []
  }
 ],
 "metadata": {
  "kernelspec": {
   "display_name": "Python 3",
   "language": "python",
   "name": "python3"
  },
  "language_info": {
   "codemirror_mode": {
    "name": "ipython",
    "version": 3
   },
   "file_extension": ".py",
   "mimetype": "text/x-python",
   "name": "python",
   "nbconvert_exporter": "python",
   "pygments_lexer": "ipython3",
   "version": "3.7.4"
  }
 },
 "nbformat": 4,
 "nbformat_minor": 2
}
