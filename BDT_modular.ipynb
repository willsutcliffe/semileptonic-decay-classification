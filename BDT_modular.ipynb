{
 "cells": [
  {
   "cell_type": "markdown",
   "metadata": {},
   "source": [
    "# Load in data"
   ]
  },
  {
   "cell_type": "code",
   "execution_count": 1,
   "metadata": {},
   "outputs": [
    {
     "name": "stdout",
     "output_type": "stream",
     "text": [
      "Welcome to JupyROOT 6.18/00\n"
     ]
    }
   ],
   "source": [
    "from root_pandas import read_root\n",
    "from uncertainties import ufloat\n",
    "import pandas as pd\n",
    "from BDT.XGBoostTrainer import XGBoostTrainer\n",
    "from ModifyNTuple.add_variables import manage_variables, clnu_BR, fill_nan_Xc_col, ulnu_BR, add_b2u_weights"
   ]
  },
  {
   "cell_type": "code",
   "execution_count": 2,
   "metadata": {},
   "outputs": [],
   "source": [
    "#output_path = '/Users/caolu/Workspace/Belle/kekcc/jupyter/kit_storage/20190516_BGM/new_BDT/new_2020/'\n",
    "\n",
    "#output_path = \"/Users/caolu/Workspace/Belle/kekcc/jupyter/kit_storage/20190516_BGM/new_BDT/new_0807_new_gap/\"\n",
    "output_path = '/scratch/lcao1/Mac_code/dataset_2020/BDT/output_0925/'"
   ]
  },
  {
   "cell_type": "code",
   "execution_count": 3,
   "metadata": {},
   "outputs": [],
   "source": [
    "mainpath = '/scratch/lcao1/Mac_code/dataset_2020/'\n",
    "#mainpath ='/Users/caolu/Workspace/Belle/kekcc/jupyter/kit_storage/'\n",
    "\n",
    "df_clnu_ch = read_root(mainpath + 'mc_generic/mcCorr/output_charged_generic_20200917_5s_all_mcCorr.root','tree',where='presel_gen==1')"
   ]
  },
  {
   "cell_type": "code",
   "execution_count": 4,
   "metadata": {},
   "outputs": [],
   "source": [
    "df_clnu_md = read_root(mainpath + 'mc_generic/mcCorr/output_mixed_generic_20200917_5s_all_mcCorr.root','tree',where='presel_gen==1')"
   ]
  },
  {
   "cell_type": "code",
   "execution_count": 5,
   "metadata": {},
   "outputs": [],
   "source": [
    "df_uds = read_root(mainpath + 'mc_generic/mcCorr/output_uds_generic_20200917_5s_all_mcCorr.root','tree',where='presel_gen==1')\n",
    "df_charm = read_root(mainpath + 'mc_generic/mcCorr/output_charm_generic_20200917_5s_all_mcCorr.root','tree',where='presel_gen==1')\n",
    "\n",
    "df_dstst_ch = read_root(mainpath + 'Dstst/mcCorr/merge/Dstst_ch_5s_20200917_all_mcCorr_FF.root', 'tree',where='presel_gen==1')\n",
    "df_dstst_md = read_root(mainpath + 'Dstst/mcCorr/merge/Dstst_md_5s_20200917_all_mcCorr_FF.root', 'tree',where='presel_gen==1')\n",
    "\n",
    "\n",
    "df_gap_ch = read_root(mainpath + 'gap/mcCorr/merge/Gap_ch_5s_20200917_all_mcCorr_FF.root', 'tree',where='presel_gen==1')\n",
    "df_gap_md = read_root(mainpath + 'gap/mcCorr/merge/Gap_md_5s_20200917_all_mcCorr_FF.root', 'tree',where='presel_gen==1')\n"
   ]
  },
  {
   "cell_type": "code",
   "execution_count": 6,
   "metadata": {},
   "outputs": [],
   "source": [
    "Dlnu_ch_BGM_ffs = pd.read_pickle(mainpath + 'mc_generic/mcCorr/FF_Dlnu_ch_20200917_5s_presel.pickle')\n",
    "Dlnu_md_BGM_ffs = pd.read_pickle(mainpath + 'mc_generic/mcCorr/FF_Dlnu_md_20200917_5s_presel.pickle')\n",
    "\n",
    "Dstlnu_ch_BGM_ffs = pd.read_pickle(mainpath + 'mc_generic/mcCorr/FF_Dstlnu_ch_20200917_5s_presel.pickle')\n",
    "Dstlnu_md_BGM_ffs = pd.read_pickle(mainpath + 'mc_generic/mcCorr/FF_Dstlnu_md_20200917_5s_presel.pickle')\n",
    "\n",
    "df_clnu_ch = pd.concat([df_clnu_ch, Dlnu_ch_BGM_ffs, Dstlnu_ch_BGM_ffs], axis=1)\n",
    "df_clnu_md = pd.concat([df_clnu_md, Dlnu_md_BGM_ffs, Dstlnu_md_BGM_ffs], axis=1)"
   ]
  },
  {
   "cell_type": "code",
   "execution_count": 7,
   "metadata": {},
   "outputs": [],
   "source": [
    "del Dlnu_ch_BGM_ffs, Dstlnu_ch_BGM_ffs, Dlnu_md_BGM_ffs, Dstlnu_md_BGM_ffs"
   ]
  },
  {
   "cell_type": "code",
   "execution_count": 8,
   "metadata": {},
   "outputs": [],
   "source": [
    "df_ulnu_ch_hy = read_root(mainpath + 'mc_ulnu/combined_hybrid/output_hybrid_charged_DFNssCen_20200917_10s_all_mcCorr_FF_wHySys.root','tree',where='presel_gen==1')\n",
    "df_ulnu_md_hy = read_root(mainpath + 'mc_ulnu/combined_hybrid/output_hybrid_mixed_DFNssCen_20200917_10s_all_mcCorr_FF_wHySys.root','tree',where='presel_gen==1')\n",
    "\n"
   ]
  },
  {
   "cell_type": "code",
   "execution_count": 9,
   "metadata": {},
   "outputs": [],
   "source": [
    "df_ulnu_ch_hy = ulnu_BR(df_ulnu_ch_hy, 'truth_xu_pdg')\n",
    "df_ulnu_ch_hy= add_b2u_weights(df_ulnu_ch_hy)\n",
    "\n",
    "df_ulnu_md_hy = ulnu_BR(df_ulnu_md_hy, 'truth_xu_pdg')\n",
    "df_ulnu_md_hy= add_b2u_weights(df_ulnu_md_hy)"
   ]
  },
  {
   "cell_type": "code",
   "execution_count": 10,
   "metadata": {},
   "outputs": [],
   "source": [
    "# add weights counting for f++/f00 ratio B+B- to B0BOb at Upsilon FourS\n",
    "fpluszero = ufloat(1.058, 0.024)\n",
    "\n",
    "C_Bplus = 2*fpluszero/(1+fpluszero)\n",
    "C_Bzero = 2/(1+fpluszero)\n",
    "\n",
    "# the effct is acounted in tagging calibration\n",
    "# need to remove double-counting: reweight slef-made MC produced with fpluszero back to 1:1 (old generic produced B±: B0 = 1:1)\n",
    "df_clnu_ch['C_B_fcen'] = 1\n",
    "df_clnu_md['C_B_fcen'] = 1\n",
    "\n",
    "df_dstst_ch['C_B_fcen'] = 1/C_Bplus.nominal_value\n",
    "df_dstst_md['C_B_fcen'] = 1/C_Bzero.nominal_value\n",
    "df_gap_ch['C_B_fcen'] = 1/C_Bplus.nominal_value\n",
    "df_gap_md['C_B_fcen'] = 1/C_Bzero.nominal_value\n"
   ]
  },
  {
   "cell_type": "code",
   "execution_count": null,
   "metadata": {},
   "outputs": [],
   "source": [
    "\n",
    "\n"
   ]
  },
  {
   "cell_type": "code",
   "execution_count": 7,
   "metadata": {},
   "outputs": [],
   "source": [
    "#base = '/home/sutclw/Work/Analysis/b2ulnu/Data/B2GM_June_2019/20190516_BGM_2/'\n",
    "\n",
    "#df_clnu_md = read_root(base +'generic/s0/tag_corr/bingen_md_s0_pre_selected_20190516_tagCorr.root','tree')\n",
    "#df_clnu_ch = read_root(base +'generic/s0/tag_corr/bingen_ch_s0_pre_selected_20190516_tagCorr.root','tree')\n",
    "\n",
    "#Dlnu_ch_BGM_ffs = pd.read_pickle(base + 'generic/s0/clnu_FF/Dlnu_ch_BGM_ffs.pickle')\n",
    "#Dlnu_md_BGM_ffs = pd.read_pickle(base + 'generic/s0/clnu_FF/Dlnu_md_BGM_ffs.pickle')\n",
    "#Dstlnu_ch_BGM_ffs = pd.read_pickle(base + 'generic/s0/clnu_FF/Dstlnu_ch_BGM_ffs.pickle')\n",
    "#Dstlnu_md_BGM_ffs = pd.read_pickle(base + 'generic/s0/clnu_FF/Dstlnu_md_BGM_ffs.pickle')\n",
    "\n",
    "#df_dstst_ch = read_root(base + 'Dstst/s0/pre_sel_generic/Dstst_ch_s0_20190516_pre_selected_tagCorr.root', 'tree')\n",
    "#df_dstst_md = read_root(base + 'Dstst/s0/pre_sel_generic/Dstst_md_s0_20190516_pre_selected_tagCorr.root', 'tree')\n",
    "#df_dstst_ch = read_root(base + 'Dstst/Dstst_FFs/Dstst_ch_s0_pre_selected_20190516_FF.root', 'tree')\n",
    "#df_dstst_md = read_root(base + 'Dstst/Dstst_FFs/Dstst_md_s0_pre_selected_20190516_FF.root', 'tree')\n",
    "#df_gap_ch = read_root(base + 'Gap/s0/Gap_ch_s0_pre_selected_20190516_tagCorr.root', 'tree')\n",
    "#df_gap_md = read_root(base + 'Gap/s0/Gap_md_s0_pre_selected_20190516_tagCorr.root', 'tree')\n",
    "#df_clnu_ch = pd.concat([df_clnu_ch, Dlnu_ch_BGM_ffs, Dstlnu_ch_BGM_ffs], axis=1)\n",
    "#df_clnu_md = pd.concat([df_clnu_mc, Dlnu_mc_BGM_ffs, Dstlnu_mc_BGM_ffs], axis=1)"
   ]
  },
  {
   "cell_type": "code",
   "execution_count": 7,
   "metadata": {},
   "outputs": [],
   "source": [
    "#df_ulnu_ch_hy = read_root(mainpath + '20190516_BGM/signal/hybrid_v2/output_mc_ulnu_hybrid_charged_20190516_10s_presel_tagCorr.root','tree')\n",
    "#df_ulnu_md_hy = read_root(mainpath + '20190516_BGM/signal/hybrid_v2/output_mc_ulnu_hybrid_mixed_20190516_10s_presel_tagCorr.root','tree')\n",
    "#df_ulnu_md_hy = read_root('/home/sutclw/testcopy/output_mc_ulnu_hybrid_mixed_20190516_10s_presel_tagCorr.root','tree')\n",
    "#f_ulnu_ch_hy = read_root('/home/sutclw/testcopy/output_mc_ulnu_hybrid_charged_20190516_10s_presel_tagCorr.root','tree')"
   ]
  },
  {
   "cell_type": "code",
   "execution_count": 8,
   "metadata": {},
   "outputs": [],
   "source": [
    "\n",
    "#df_clnu_ch = pd.concat([df_clnu_ch, Dlnu_ch_BGM_ffs, Dstlnu_ch_BGM_ffs], axis=1)\n",
    "#df_clnu_md = pd.concat([df_clnu_md, Dlnu_md_BGM_ffs, Dstlnu_md_BGM_ffs], axis=1)"
   ]
  },
  {
   "cell_type": "code",
   "execution_count": 11,
   "metadata": {},
   "outputs": [
    {
     "data": {
      "text/plain": [
       "834298"
      ]
     },
     "execution_count": 11,
     "metadata": {},
     "output_type": "execute_result"
    }
   ],
   "source": [
    "len(df_dstst_ch)+len(df_dstst_md)+len(df_gap_ch)+len(df_gap_md)"
   ]
  },
  {
   "cell_type": "code",
   "execution_count": 7,
   "metadata": {},
   "outputs": [
    {
     "data": {
      "text/plain": [
       "166958"
      ]
     },
     "execution_count": 7,
     "metadata": {},
     "output_type": "execute_result"
    }
   ],
   "source": [
    "def check(df):\n",
    "    xlv_decay = abs(df.event_lclass) ==2\n",
    "    gap = xlv_decay & (df.event_dclass.isin([2,4,9,10]))\n",
    "    dstst = xlv_decay & (df.event_dclass.isin([5,6,7,8]))\n",
    "    df_mask = df[dstst]\n",
    "    return df_mask\n",
    "\n",
    "len(check(df_clnu_ch)) +len(check(df_clnu_md))"
   ]
  },
  {
   "cell_type": "code",
   "execution_count": 9,
   "metadata": {},
   "outputs": [
    {
     "data": {
      "text/plain": [
       "1.269018359531232"
      ]
     },
     "execution_count": 9,
     "metadata": {},
     "output_type": "execute_result"
    }
   ],
   "source": [
    "len(df_clnu_ch) /len(df_clnu_md)"
   ]
  },
  {
   "cell_type": "code",
   "execution_count": 12,
   "metadata": {},
   "outputs": [],
   "source": [
    "df_clnu_md['sample_type'] = 1 # old charged generic\n",
    "df_clnu_ch['sample_type'] = 2 # old mixed generic\n",
    "df_charm['sample_type'] = 3   # charm\n",
    "df_uds['sample_type'] = 4     # uds\n",
    "df_dstst_ch['sample_type'] = 5 # new D** charged\n",
    "df_dstst_md['sample_type'] = 6 # new D** mixed\n",
    "df_gap_ch['sample_type'] = 7   # new gap charged\n",
    "df_gap_md['sample_type'] = 8   # new gap mixed"
   ]
  },
  {
   "cell_type": "code",
   "execution_count": 13,
   "metadata": {},
   "outputs": [],
   "source": [
    "def mask_dstst_gap(df):\n",
    "    \n",
    "    xlv_decay = abs(df.event_lclass) ==2\n",
    "    \n",
    "    gap = xlv_decay & (df.event_dclass.isin([2,4]))  # Dpi, Dstarpi\n",
    "    dstst = xlv_decay & (df.event_dclass.isin([5,6,7,8]))  # D1, D2star, Dstar0, Dp1\n",
    "    d2s = xlv_decay & (df.event_dclass.isin([9,10])) # D_2S, Dstar_2S\n",
    "    # skip above\n",
    "    df_mask = df[~(gap|dstst|d2s)]\n",
    "    return df_mask\n",
    "\n",
    "df_clnu_md_mask = mask_dstst_gap(df_clnu_md)\n",
    "df_clnu_ch_mask = mask_dstst_gap(df_clnu_ch)\n",
    "del df_clnu_md, df_clnu_ch\n",
    "\n",
    "df_clnu_md = pd.concat([df_clnu_md_mask, df_dstst_md, df_gap_md], sort=True)\n",
    "df_clnu_ch = pd.concat([df_clnu_ch_mask, df_dstst_ch, df_gap_ch], sort=True)\n"
   ]
  },
  {
   "cell_type": "code",
   "execution_count": 14,
   "metadata": {},
   "outputs": [],
   "source": [
    "del df_clnu_md_mask, df_dstst_md, df_gap_md, df_clnu_ch_mask, df_dstst_ch, df_gap_ch"
   ]
  },
  {
   "cell_type": "code",
   "execution_count": 15,
   "metadata": {},
   "outputs": [],
   "source": [
    "df_clnu_md = clnu_BR(df_clnu_md)\n",
    "df_clnu_ch = clnu_BR(df_clnu_ch)"
   ]
  },
  {
   "cell_type": "code",
   "execution_count": 16,
   "metadata": {},
   "outputs": [],
   "source": [
    "df_charm = fill_nan_Xc_col(df_charm)\n",
    "df_uds = fill_nan_Xc_col(df_uds)\n",
    "df_ulnu_ch_hy = fill_nan_Xc_col(df_ulnu_ch_hy)\n",
    "df_ulnu_md_hy = fill_nan_Xc_col(df_ulnu_md_hy)"
   ]
  },
  {
   "cell_type": "code",
   "execution_count": 17,
   "metadata": {},
   "outputs": [
    {
     "name": "stderr",
     "output_type": "stream",
     "text": [
      "/gpfs/share/home/lcao1/.local/lib/python3.6/site-packages/pandas/core/series.py:679: RuntimeWarning: invalid value encountered in log10\n",
      "  result = getattr(ufunc, method)(*inputs, **kwargs)\n"
     ]
    }
   ],
   "source": [
    "df_clnu_md = manage_variables(df_clnu_md)\n",
    "df_clnu_ch = manage_variables(df_clnu_ch)\n",
    "\n",
    "df_ulnu_ch_hy = manage_variables(df_ulnu_ch_hy)\n",
    "df_ulnu_md_hy = manage_variables(df_ulnu_md_hy)\n",
    "\n",
    "df_charm = manage_variables(df_charm)\n",
    "df_uds = manage_variables(df_uds)"
   ]
  },
  {
   "cell_type": "code",
   "execution_count": null,
   "metadata": {},
   "outputs": [],
   "source": []
  },
  {
   "cell_type": "code",
   "execution_count": 18,
   "metadata": {},
   "outputs": [],
   "source": [
    "def get_all_norm_w(df):\n",
    "    tot_central_weight = 1.\n",
    "    \n",
    "    for i in ['PID_w_0', 'ks_w_0', 'slowpi_w_0', 'tag_w_0', \n",
    "              'hybrid_weights', '_b2u_FF_weight_',\n",
    "              'C_B_fcen',\n",
    "              'Xc_BR_0',\n",
    "              'Dlnu_FF_weight', \n",
    "              'Dstlnu_FF_weight', \n",
    "              'FF_Done_nominal','FF_Dprimeone_nominal','FF_Dzerostar_nominal','FF_Dtwostar_nominal'\n",
    "             ]:\n",
    "        \n",
    "        if i in df.columns:\n",
    "            \n",
    "            if df[i].isnull().any() :\n",
    "            \n",
    "                df[i] = df[i].fillna(1)\n",
    "            tot_central_weight *= df[i]\n",
    "           \n",
    "     \n",
    "    df['tot_w_0'] = tot_central_weight\n",
    "    return df\n"
   ]
  },
  {
   "cell_type": "code",
   "execution_count": 19,
   "metadata": {},
   "outputs": [],
   "source": [
    "df_clnu_md = get_all_norm_w(df_clnu_md)\n",
    "df_clnu_ch = get_all_norm_w(df_clnu_ch)\n",
    "df_charm = get_all_norm_w(df_charm)\n",
    "df_uds = get_all_norm_w(df_uds)\n",
    "\n",
    "df_ulnu_ch_hy = get_all_norm_w(df_ulnu_ch_hy)\n",
    "df_ulnu_md_hy = get_all_norm_w(df_ulnu_md_hy)"
   ]
  },
  {
   "cell_type": "code",
   "execution_count": 20,
   "metadata": {},
   "outputs": [],
   "source": [
    "# add stream factor ** no need for tranning\n",
    "\n",
    "df_clnu_ch['f_stream'] = 1/5\n",
    "df_clnu_md['f_stream'] = 1/5\n",
    "\n",
    "df_charm['f_stream'] = 1/5\n",
    "df_uds['f_stream'] = 1/5\n",
    "\n",
    "df_ulnu_ch_hy['f_stream'] = 1/10\n",
    "df_ulnu_md_hy['f_stream'] = 1/10"
   ]
  },
  {
   "cell_type": "code",
   "execution_count": 21,
   "metadata": {},
   "outputs": [],
   "source": [
    "# fill up reset nan in veto_slowpi\n",
    "\n",
    "def clean_nan_in_var(df):\n",
    "    keys = df.columns[df.columns.str.startswith(pat = 'veto_slow')]\n",
    "    for i in keys:\n",
    "         if df[i].isnull().any() :\n",
    "            \n",
    "                df[i] = df[i].fillna(10000)\n",
    "    return df\n",
    "\n",
    "df_ulnu_ch_hy = clean_nan_in_var(df_ulnu_ch_hy)\n",
    "df_ulnu_md_hy = clean_nan_in_var(df_ulnu_md_hy)\n",
    "df_clnu_ch = clean_nan_in_var(df_clnu_ch)\n",
    "df_clnu_md = clean_nan_in_var(df_clnu_md)\n",
    "df_charm = clean_nan_in_var(df_charm)\n",
    "df_uds = clean_nan_in_var(df_uds)"
   ]
  },
  {
   "cell_type": "code",
   "execution_count": 22,
   "metadata": {},
   "outputs": [
    {
     "data": {
      "text/plain": [
       "609806.8641577418"
      ]
     },
     "execution_count": 22,
     "metadata": {},
     "output_type": "execute_result"
    }
   ],
   "source": [
    "(0.2*df_clnu_md['tot_w_0'].sum() + 0.2*df_clnu_ch['tot_w_0'].sum() + 0.2*df_charm['tot_w_0'].sum() + 0.2*df_uds['tot_w_0'].sum() +\n",
    "(df_ulnu_ch_hy['tot_w_0']*0.1).sum() + (df_ulnu_md_hy['tot_w_0']*0.1).sum())"
   ]
  },
  {
   "cell_type": "code",
   "execution_count": 18,
   "metadata": {},
   "outputs": [
    {
     "data": {
      "text/plain": [
       "609814.9281707632"
      ]
     },
     "execution_count": 18,
     "metadata": {},
     "output_type": "execute_result"
    }
   ],
   "source": [
    "(df_clnu_md['tot_w_0'].sum() + df_clnu_ch['tot_w_0'].sum() + df_charm['tot_w_0'].sum() + df_uds['tot_w_0'].sum() +\n",
    "(df_ulnu_ch_hy['tot_w_0']*0.1).sum() + (df_ulnu_md_hy['tot_w_0']*0.1).sum())"
   ]
  },
  {
   "cell_type": "code",
   "execution_count": 23,
   "metadata": {},
   "outputs": [],
   "source": [
    "df_clnu_ch=df_clnu_ch.reset_index()\n",
    "df_clnu_md=df_clnu_md.reset_index()"
   ]
  },
  {
   "cell_type": "code",
   "execution_count": 24,
   "metadata": {},
   "outputs": [],
   "source": [
    "df_clnu_ch_sub = df_clnu_ch[:500000]\n",
    "df_clnu_md_sub = df_clnu_md[:500000]\n",
    "\n",
    "df_clnu_ch_rest = df_clnu_ch.loc[~df_clnu_ch.index.isin(df_clnu_ch_sub.index)]\n",
    "df_clnu_md_rest = df_clnu_md.loc[~df_clnu_md.index.isin(df_clnu_md_sub.index)]"
   ]
  },
  {
   "cell_type": "code",
   "execution_count": 25,
   "metadata": {},
   "outputs": [],
   "source": [
    "mainpath = '/scratch/lcao1/Mac_code/dataset_2020/BDT/input_ready/'\n",
    "df_ulnu_ch_hy.to_root(mainpath +'u_ch_presel.root','tree')\n",
    "df_ulnu_md_hy.to_root(mainpath +'u_md_presel.root','tree')\n",
    "\n",
    "df_clnu_ch.to_root(mainpath +'c_ch_presel.root','tree')\n",
    "df_clnu_md.to_root(mainpath +'c_md_presel.root','tree')\n",
    "\n",
    "df_charm.to_root(mainpath +'charm_presel.root','tree')\n",
    "df_uds.to_root(mainpath +'uds_presel.root','tree')"
   ]
  },
  {
   "cell_type": "code",
   "execution_count": 26,
   "metadata": {},
   "outputs": [],
   "source": [
    "df_clnu_ch_sub.to_root(mainpath +'c_ch_presel_500k.root','tree')\n",
    "df_clnu_md_sub.to_root(mainpath +'c_md_presel_500k.root','tree')\n",
    "df_clnu_ch_rest.to_root(mainpath +'c_ch_presel_rest.root','tree')\n",
    "df_clnu_md_rest.to_root(mainpath +'c_md_presel_rest.root','tree')"
   ]
  },
  {
   "cell_type": "code",
   "execution_count": null,
   "metadata": {},
   "outputs": [],
   "source": []
  },
  {
   "cell_type": "markdown",
   "metadata": {},
   "source": [
    "Due to memory issue, split above preparation with the tranning part"
   ]
  },
  {
   "cell_type": "code",
   "execution_count": 3,
   "metadata": {},
   "outputs": [],
   "source": [
    "mainpath = '/scratch/lcao1/Mac_code/dataset_2020/BDT/input_ready/'\n",
    "df_ulnu_ch_hy=read_root(mainpath +'u_ch_presel.root','tree')\n",
    "df_ulnu_md_hy=read_root(mainpath +'u_md_presel.root','tree')"
   ]
  },
  {
   "cell_type": "code",
   "execution_count": 4,
   "metadata": {},
   "outputs": [],
   "source": [
    "df_clnu_ch=read_root(mainpath +'c_ch_presel_500k.root','tree')\n",
    "df_clnu_md=read_root(mainpath +'c_md_presel_500k.root','tree')"
   ]
  },
  {
   "cell_type": "code",
   "execution_count": 5,
   "metadata": {},
   "outputs": [],
   "source": [
    "import matplotlib.pyplot as plt\n",
    "import pandas as pd\n",
    "import numpy as np\n",
    "# Set up and train BDTs \n",
    "from importlib import reload \n",
    "import BDT\n",
    "#reload(BDT.EventPreprocessor)\n",
    "from BDT.EventPreprocessor import EventPreprocessor\n",
    "\n",
    "#base = '/home/sutclw/Work/Analysis/b2ulnu/Data/B2GM_June_2019/20190516_BGM_2/'\n",
    "#data = { 'ulnu_ch' :base + 'signal/tag_corr/output_mc_ulnu_hybrid_charged_20190516_10s_preselected_tagCorr.root',\n",
    "#         'ulnu_md' :base + 'signal/tag_corr/output_mc_ulnu_hybrid_mixed_20190516_10s_preselected_tagCorr.root',\n",
    "#         'clnu_ch' : base + 'generic/s0/tag_corr/bingen_ch_s0_pre_selected_20190516_tagCorr.root',\n",
    "#         'clnu_md' : base + 'generic/s0/tag_corr/bingen_md_s0_pre_selected_20190516_tagCorr.root' }\n",
    "data = { 'ulnu_md' :df_ulnu_md_hy,\n",
    "         'ulnu_ch' :df_ulnu_ch_hy,\n",
    "        'clnu_ch' : df_clnu_ch,\n",
    "         'clnu_md' : df_clnu_md}\n",
    "Ntrain = 30000\n",
    "\n",
    "# Do common event processing on datasets \n",
    "p = EventPreprocessor(data,'tree')\n",
    "p.Combine(('ulnu_ch','ch'),('ulnu_md','md'),'ulnu','BMeson')\n",
    "p.Combine(('clnu_ch','ch'),('clnu_md','md'),'clnu','BMeson')\n",
    "#p.AddNewColumnToAll('vertexfit', lambda df: np.where((df['gx_vtx_chi2']>0)&(df['gx_vtx_dgf']>0), np.log10(df.gx_vtx_chi2/df.gx_vtx_dgf), -100))\n",
    "p.FillNaNs(10000)\n",
    "p.AddNewColumnToX('Target', lambda df: 1,'ulnu')\n",
    "p.AddNewColumnToX('Target', lambda df: 0,'clnu')\n",
    "\n",
    "p.RandomiseTestTrain('((btag_m_bc >= 5.27) & (abs(btag_pcode_b) == 511))','ulnu',Ntrain,'tot_w_0',seed=123)\n",
    "p.RandomiseTestTrain('((btag_m_bc >= 5.27) & (abs(btag_pcode_b) != 511))','ulnu',Ntrain,'tot_w_0',seed=123)\n",
    "p.RandomiseTestTrain('((btag_m_bc >= 5.27) & (abs(btag_pcode_b) == 511))','clnu',Ntrain,'tot_w_0',seed=123)\n",
    "p.RandomiseTestTrain('((btag_m_bc >= 5.27) & (abs(btag_pcode_b) != 511))','clnu',Ntrain,'tot_w_0',seed=123)\n",
    "\n",
    "# Get data back from event processor split into ulnu and clnu \n",
    "ulnu = p.GetDataframe('ulnu')\n",
    "clnu = p.GetDataframe('clnu')\n",
    "\n",
    "#Append data\n",
    "data  = ulnu.append(clnu)\n",
    "\n",
    "# Split into B0 and B+\n",
    "B0_data = data.query(' (abs(btag_pcode_b) == 511)')\n",
    "BP_data = data.query('(abs(btag_pcode_b) != 511)')\n",
    "\n"
   ]
  },
  {
   "cell_type": "markdown",
   "metadata": {},
   "source": [
    "# Train BDT"
   ]
  },
  {
   "cell_type": "code",
   "execution_count": 7,
   "metadata": {},
   "outputs": [
    {
     "name": "stderr",
     "output_type": "stream",
     "text": [
      "/scratch/lcao1/bxlnu/Pyb2ulnu/BDT/XGBoostTrainer.py:42: SettingWithCopyWarning: \n",
      "A value is trying to be set on a copy of a slice from a DataFrame.\n",
      "Try using .loc[row_indexer,col_indexer] = value instead\n",
      "\n",
      "See the caveats in the documentation: https://pandas.pydata.org/pandas-docs/stable/user_guide/indexing.html#returning-a-view-versus-a-copy\n",
      "  self.testdata[self.outputlabel] =  self.classifier.predict(self.dtest)\n",
      "/scratch/lcao1/bxlnu/Pyb2ulnu/BDT/XGBoostTrainer.py:43: SettingWithCopyWarning: \n",
      "A value is trying to be set on a copy of a slice from a DataFrame.\n",
      "Try using .loc[row_indexer,col_indexer] = value instead\n",
      "\n",
      "See the caveats in the documentation: https://pandas.pydata.org/pandas-docs/stable/user_guide/indexing.html#returning-a-view-versus-a-copy\n",
      "  self.traindata[self.outputlabel] = self.classifier.predict(self.dtrain)\n",
      "/scratch/lcao1/bxlnu/Pyb2ulnu/BDT/XGBoostTrainer.py:44: SettingWithCopyWarning: \n",
      "A value is trying to be set on a copy of a slice from a DataFrame.\n",
      "Try using .loc[row_indexer,col_indexer] = value instead\n",
      "\n",
      "See the caveats in the documentation: https://pandas.pydata.org/pandas-docs/stable/user_guide/indexing.html#returning-a-view-versus-a-copy\n",
      "  self.data[self.outputlabel] = self.classifier.predict(self.ddata)\n"
     ]
    },
    {
     "name": "stdout",
     "output_type": "stream",
     "text": [
      "0.47711156577471503\n",
      "0.43711073315539706\n"
     ]
    },
    {
     "name": "stderr",
     "output_type": "stream",
     "text": [
      "/scratch/lcao1/bxlnu/Pyb2ulnu/BDT/XGBoostTrainer.py:190: RuntimeWarning: invalid value encountered in true_divide\n",
      "  purity = (T - np.cumsum(t[index])) / (N - np.cumsum(np.ones(N)))\n"
     ]
    }
   ],
   "source": [
    "# Set up and train BDTs \n",
    "#from importlib import reload \n",
    "import BDT\n",
    "#reload(BDT.XGBoostTrainer)\n",
    "from BDT.XGBoostTrainer import XGBoostTrainer\n",
    "\n",
    "\n",
    "# 'event_nlep',\n",
    "features = ['gmiss_m2', 'event_q','event_nk', 'event_nks', 'veto_slowCharPi_missM2', 'veto_slowNeuPi_missM2', 'vertexfit', 'veto_slowNeuPi_cos_ThetaC', 'veto_slowCharPi_cos_ThetaC', 'veto_slowCharPi_cos_BY', 'veto_slowNeuPi_cos_BY']\n",
    "hyperpars = {'max_depth': 2, 'eta':0.1, 'silent':1, 'objective':'binary:logistic'}\n",
    "B0_trainer = XGBoostTrainer(B0_data,hyperpars, features,'tot_w_0')\n",
    "B0_trainer.num_round = 500\n",
    "B0_trainer.train()\n",
    "B0_trainer.predict()\n",
    "B0_trainer.savemodel(output_path + 'mixed_BDT')\n",
    "hyperpars = {'max_depth':2, 'eta':0.1, 'silent':1, 'objective':'binary:logistic'}\n",
    "BP_trainer = XGBoostTrainer(BP_data,hyperpars, features,'tot_w_0')\n",
    "BP_trainer.num_round = 500\n",
    "BP_trainer.train()\n",
    "BP_trainer.predict()\n",
    "BP_trainer.savemodel(output_path + 'charged_BDT')\n",
    "print(BP_trainer.AROC())\n",
    "print(B0_trainer.AROC())"
   ]
  },
  {
   "cell_type": "code",
   "execution_count": 8,
   "metadata": {},
   "outputs": [
    {
     "name": "stderr",
     "output_type": "stream",
     "text": [
      "/gpfs/share/home/lcao1/.local/lib/python3.6/site-packages/matplotlib/font_manager.py:1241: UserWarning: findfont: Font family ['normal'] not found. Falling back to DejaVu Sans.\n",
      "  (prop.get_family(), self.defaultFamily[fontext]))\n"
     ]
    },
    {
     "data": {
      "image/png": "[encoded data removed]",
      "text/plain": [
       "<Figure size 432x288 with 1 Axes>"
      ]
     },
     "metadata": {
      "needs_background": "light"
     },
     "output_type": "display_data"
    }
   ],
   "source": [
    "import matplotlib\n",
    "font = {'family' : 'normal',\n",
    "        'weight' : 'normal',\n",
    "        'size'   : 13}\n",
    "matplotlib.rc('font', **font)\n",
    "BP_trainer.PlotClassifiers(bins=25,output='BP_classifier',textlabel=r\"$B^{+}$\",test_cut='btag_m_bc >= 5.27')"
   ]
  },
  {
   "cell_type": "code",
   "execution_count": 9,
   "metadata": {},
   "outputs": [
    {
     "data": {
      "image/png": "[encoded data removed]",
      "text/plain": [
       "<Figure size 432x288 with 1 Axes>"
      ]
     },
     "metadata": {
      "needs_background": "light"
     },
     "output_type": "display_data"
    }
   ],
   "source": [
    "B0_trainer.PlotClassifiers(bins=25,output='B0_classifier',textlabel=r\"$B^{0}$\",test_cut='btag_m_bc >= 5.27')"
   ]
  },
  {
   "cell_type": "code",
   "execution_count": 10,
   "metadata": {},
   "outputs": [
    {
     "name": "stdout",
     "output_type": "stream",
     "text": [
      "[1.0, 1.0, 0.9995204519584228, 0.9977441159476883, 0.9933242170544743, 0.9869701421012962, 0.978884385388821, 0.9672600940474906, 0.9557683250790021, 0.9445721445114161, 0.932922265652231, 0.9175830376849239, 0.901501506584778, 0.8894280276867713, 0.877237333594604, 0.86077204741136, 0.8450167821714776, 0.8278952170293344, 0.8049209308412906, 0.7908778796913124, 0.7700117804846215, 0.7519422717497676, 0.73370999027997, 0.712361532486639, 0.694112774158744, 0.6747563912570149, 0.6535243307835437, 0.6305435135233474, 0.6104239126866511, 0.5917496560177727, 0.5662918790527558, 0.5460225227959407, 0.525984055619317, 0.5018090427280116, 0.4787604178121581, 0.4553329550770989, 0.42137092129059317, 0.39081421889045936, 0.36013580923444877, 0.32120730543328974, 0.280674960169114, 0.247691382724759, 0.20411620047444634, 0.15752728270767435, 0.10300981088143586, 0.047153626503318016, 0.0018184770260532028, 0.00017618694970021048, 1.3698036585295735e-05, 0.0, 0.0] [0.0, 4.172870839547205e-05, 0.002169687319611535, 0.014733527820838477, 0.04606587229267145, 0.0846392853198028, 0.13208824377075845, 0.19254573719299117, 0.2515510174979868, 0.30442345308604735, 0.35086543832399053, 0.4016686269195926, 0.4508458821680381, 0.48295402402344656, 0.514478357682492, 0.5487561362990574, 0.579262287592639, 0.6094225150695406, 0.6459008295981921, 0.668864955972873, 0.6959638187997252, 0.7180156401073032, 0.7393531172557124, 0.7607257468400568, 0.7790035180790207, 0.7964797001903583, 0.8145286803871243, 0.8322528183959521, 0.8464765272309004, 0.8582714223542556, 0.8731704216904599, 0.8842589733059704, 0.8943765017897483, 0.9056332280257804, 0.9152418115802564, 0.9246766754439621, 0.935939503575476, 0.9445073097714627, 0.9530755629782817, 0.9617870348851809, 0.9698706016278213, 0.9753230177333365, 0.9815307137003918, 0.9874614560468546, 0.992630864813218, 0.996831555021527, 0.9997901807112971, 0.9999906285288208, 0.9999978165926299, 1.0, 1.0]\n"
     ]
    },
    {
     "data": {
      "image/png": "[encoded data removed]",
      "text/plain": [
       "<Figure size 432x288 with 1 Axes>"
      ]
     },
     "metadata": {
      "needs_background": "light"
     },
     "output_type": "display_data"
    }
   ],
   "source": [
    "matplotlib.rc('font', **font)\n",
    "BP_trainer.plotROCcurve(output='BP_ROC',textlabel=r\"$B^{+}$\", test_cut='btag_m_bc >= 5.27')"
   ]
  },
  {
   "cell_type": "code",
   "execution_count": 11,
   "metadata": {},
   "outputs": [
    {
     "name": "stdout",
     "output_type": "stream",
     "text": [
      "[1.0, 0.9998886787559729, 0.9979556204361892, 0.9944827924440748, 0.9901599927280235, 0.9844087595774226, 0.9758758637140263, 0.9666870978536547, 0.9560983610951463, 0.9458267298403431, 0.933722572987052, 0.9215437632870956, 0.9103052567740021, 0.8985509641735493, 0.8842682288489941, 0.8695781898100903, 0.8545153612637593, 0.83859473481587, 0.8210215862511766, 0.8062932645005264, 0.7905095073387338, 0.7727517699498534, 0.7513831525365862, 0.7324656954507638, 0.716747568000871, 0.6978134620996645, 0.678344220529507, 0.6610393055550274, 0.6398429799955458, 0.6188822685394467, 0.5991938977526555, 0.5761732017048878, 0.5574992803823372, 0.5337398411519764, 0.513142627181322, 0.4907582852361417, 0.46977782779972466, 0.4376950850887174, 0.4123655424919433, 0.3803298414531853, 0.35266503877624583, 0.32230880317463695, 0.2874257679514835, 0.2489518093345754, 0.19707317750868492, 0.1447133613265387, 0.08697049197043448, 0.01988725472181952, 0.00014156944750457094, 0.0, 0.0] [0.0, 0.0011067746637586362, 0.02502783086242799, 0.07017020955208275, 0.11037728617006148, 0.15249046733826044, 0.2013753561867364, 0.2515844537255074, 0.2995759607459736, 0.3501128723661421, 0.39518835285299847, 0.4354950165527759, 0.47543009276932047, 0.5112933120883281, 0.5444582335305279, 0.5762490503071102, 0.6072622968361849, 0.6376545770471431, 0.6656823848799702, 0.6900551258038097, 0.7126764334225683, 0.735046003577044, 0.7590924210751914, 0.7806490556074308, 0.7970256531487075, 0.8141811844092459, 0.8306473758467072, 0.845107165482821, 0.8607071455322337, 0.8746087982224443, 0.8861579789839791, 0.8981656151631591, 0.9077994562393755, 0.9180052628423508, 0.9258396344469899, 0.9343352330875758, 0.941136827130568, 0.9496511719854902, 0.9560648844244042, 0.9631179714864434, 0.9688676308999329, 0.974519058412296, 0.9800941629771057, 0.9851340654160273, 0.9900563428235325, 0.9938169042611136, 0.9969556819281161, 0.9993038505618509, 0.999997888427865, 1.0, 1.0]\n"
     ]
    },
    {
     "data": {
      "image/png": "[encoded data removed]",
      "text/plain": [
       "<Figure size 432x288 with 1 Axes>"
      ]
     },
     "metadata": {
      "needs_background": "light"
     },
     "output_type": "display_data"
    }
   ],
   "source": [
    "B0_trainer.plotROCcurve(output='B0_ROC',textlabel=r\"$B^{0}$\", test_cut='btag_m_bc >= 5.27')"
   ]
  },
  {
   "cell_type": "code",
   "execution_count": 12,
   "metadata": {},
   "outputs": [
    {
     "data": {
      "image/png": "[encoded data removed]",
      "text/plain": [
       "<Figure size 432x288 with 1 Axes>"
      ]
     },
     "metadata": {
      "needs_background": "light"
     },
     "output_type": "display_data"
    }
   ],
   "source": [
    "BP_trainer.plotVariablesByImportance(output='BP_feature_ranking',textlabel=r\"$B^{+}$\")"
   ]
  },
  {
   "cell_type": "code",
   "execution_count": 13,
   "metadata": {},
   "outputs": [
    {
     "data": {
      "image/png": "[encoded data removed]",
      "text/plain": [
       "<Figure size 432x288 with 1 Axes>"
      ]
     },
     "metadata": {
      "needs_background": "light"
     },
     "output_type": "display_data"
    }
   ],
   "source": [
    "B0_trainer.plotVariablesByImportance(output='B0_feature_ranking',textlabel=r\"$B^{0}$\")"
   ]
  },
  {
   "cell_type": "code",
   "execution_count": 14,
   "metadata": {},
   "outputs": [],
   "source": [
    "del(B0_data)\n",
    "del(BP_data)"
   ]
  },
  {
   "cell_type": "markdown",
   "metadata": {},
   "source": [
    "# Save output "
   ]
  },
  {
   "cell_type": "code",
   "execution_count": 15,
   "metadata": {},
   "outputs": [],
   "source": [
    "from importlib import reload \n",
    "import BDT\n",
    "reload(BDT.EventPreprocessor)\n",
    "from BDT.EventPreprocessor import EventPreprocessor\n",
    "data = {}\n",
    "data['ulnu_ch'] = BP_trainer.GetSignalData()\n",
    "data['ulnu_md'] = B0_trainer.GetSignalData()\n",
    "data['clnu_ch'] = BP_trainer.GetBackgroundData()\n",
    "data['clnu_md'] = B0_trainer.GetBackgroundData()\n",
    "del(BP_trainer)\n",
    "del(B0_trainer)"
   ]
  },
  {
   "cell_type": "code",
   "execution_count": 16,
   "metadata": {},
   "outputs": [
    {
     "name": "stderr",
     "output_type": "stream",
     "text": [
      "/cvmfs/belle.cern.ch/ubuntu1804/externals/v01-08-00/Linux_x86_64/common/lib/python3.6/site-packages/root_numpy/_tree.py:575: UserWarning: converter for dtype('O') is not implemented (skipping)\n",
      "  cobj = _librootnumpy.array2tree_toCObj(arr, name=name, tree=incobj)\n"
     ]
    }
   ],
   "source": [
    "from BDT.EventPreprocessor import EventPreprocessor\n",
    "\n",
    "outp = EventPreprocessor(data,'tree',usereadroot=False)\n",
    "outp.CombineMultiple(['ulnu_ch','ulnu_md'],'ulnu')\n",
    "outp.CombineMultiple(['clnu_ch','clnu_md'],'clnu')\n",
    "outp.ApplyOneMask(\"BMeson == 'ch'\",'ulnu','ulnu_charged')\n",
    "outp.ApplyOneMask(\"BMeson == 'md'\",'ulnu','ulnu_mixed')\n",
    "outp.ApplyOneMask(\"BMeson == 'ch'\",'clnu','clnu_charged')\n",
    "outp.ApplyOneMask(\"BMeson == 'md'\",'clnu','clnu_mixed')\n",
    "outp.WriteFile('ulnu_mixed', output_path + 'ulnu_md_10s_BDT.root')\n",
    "outp.WriteFile('ulnu_charged',output_path + 'ulnu_ch_10s_BDT.root')\n",
    "outp.WriteFile('clnu_mixed',output_path + 'clnu_md_sub_BDT.root')\n",
    "outp.WriteFile('clnu_charged',output_path + 'clnu_ch_sub_BDT.root')"
   ]
  },
  {
   "cell_type": "code",
   "execution_count": 17,
   "metadata": {},
   "outputs": [],
   "source": [
    "del outp, data"
   ]
  },
  {
   "cell_type": "markdown",
   "metadata": {},
   "source": [
    "# Ruunig on DATA"
   ]
  },
  {
   "cell_type": "code",
   "execution_count": 18,
   "metadata": {},
   "outputs": [],
   "source": [
    "mainpath = '/scratch/lcao1/Mac_code/dataset_2020/'\n",
    "df_data = read_root(mainpath + 'data/output_data_all_20200917.root','tree',where='presel_gen==1')"
   ]
  },
  {
   "cell_type": "code",
   "execution_count": 19,
   "metadata": {},
   "outputs": [
    {
     "data": {
      "text/plain": [
       "612777"
      ]
     },
     "execution_count": 19,
     "metadata": {},
     "output_type": "execute_result"
    }
   ],
   "source": [
    "len(df_data)"
   ]
  },
  {
   "cell_type": "code",
   "execution_count": 20,
   "metadata": {},
   "outputs": [
    {
     "name": "stderr",
     "output_type": "stream",
     "text": [
      "/gpfs/share/home/lcao1/.local/lib/python3.6/site-packages/pandas/core/series.py:679: RuntimeWarning: invalid value encountered in log10\n",
      "  result = getattr(ufunc, method)(*inputs, **kwargs)\n"
     ]
    }
   ],
   "source": [
    "import BDT\n",
    "from BDT.EventPreprocessor import EventPreprocessor\n",
    "import numpy as np\n",
    "df_data['Index']= df_data.index\n",
    "data = { \n",
    "        'data' : df_data\n",
    "\n",
    "}\n",
    "p = EventPreprocessor(data,'tree')\n",
    "\n",
    "p.AddNewColumnToAll('vertexfit', lambda df: np.where((df['gx_vtx_chi2']>0)&(df['gx_vtx_dgf']>0), np.log10(df.gx_vtx_chi2/df.gx_vtx_dgf), -100))\n",
    "p.FillNaNs(10000)\n",
    "\n",
    "\n",
    "# Get data back from event processor split into ulnu and clnu \n",
    "\n",
    "data = p.GetDataframe('data')\n",
    "\n",
    "#Append data\n",
    "\n",
    "\n",
    "# Split into B0 and B+\n",
    "B0_data = data.query('((abs(btag_pcode_b) == 511))')\n",
    "BP_data = data.query('((abs(btag_pcode_b) != 511))')"
   ]
  },
  {
   "cell_type": "code",
   "execution_count": 21,
   "metadata": {},
   "outputs": [
    {
     "name": "stderr",
     "output_type": "stream",
     "text": [
      "/gpfs/share/home/lcao1/.local/lib/python3.6/site-packages/pandas/core/indexing.py:845: SettingWithCopyWarning: \n",
      "A value is trying to be set on a copy of a slice from a DataFrame.\n",
      "Try using .loc[row_indexer,col_indexer] = value instead\n",
      "\n",
      "See the caveats in the documentation: https://pandas.pydata.org/pandas-docs/stable/user_guide/indexing.html#returning-a-view-versus-a-copy\n",
      "  self.obj[key] = _infer_fill_value(value)\n",
      "/gpfs/share/home/lcao1/.local/lib/python3.6/site-packages/pandas/core/indexing.py:966: SettingWithCopyWarning: \n",
      "A value is trying to be set on a copy of a slice from a DataFrame.\n",
      "Try using .loc[row_indexer,col_indexer] = value instead\n",
      "\n",
      "See the caveats in the documentation: https://pandas.pydata.org/pandas-docs/stable/user_guide/indexing.html#returning-a-view-versus-a-copy\n",
      "  self.obj[item] = s\n"
     ]
    }
   ],
   "source": [
    "import BDT\n",
    "#reload(BDT.XGBoostInference)\n",
    "from BDT.XGBoostInference import XGBoostInference\n",
    "features = ['gmiss_m2','event_q','event_nk', 'event_nks', 'veto_slowCharPi_missM2', 'veto_slowNeuPi_missM2', 'vertexfit', 'veto_slowNeuPi_cos_ThetaC', 'veto_slowCharPi_cos_ThetaC', 'veto_slowCharPi_cos_BY', 'veto_slowNeuPi_cos_BY']\n",
    "B0_inferer = XGBoostInference(output_path + 'mixed_BDT',features)\n",
    "BP_inferer = XGBoostInference(output_path + 'charged_BDT',features)\n",
    "B0_inferer.SetData(B0_data)\n",
    "B0_inferer.Apply()\n",
    "BP_inferer.SetData(BP_data)\n",
    "BP_inferer.Apply()"
   ]
  },
  {
   "cell_type": "code",
   "execution_count": 22,
   "metadata": {},
   "outputs": [],
   "source": [
    "from BDT.EventPreprocessor import EventPreprocessor\n",
    "\n",
    "data = {}\n",
    "data['data_ch'] = BP_inferer.GetData()\n",
    "data['data_md'] = B0_inferer.GetData()\n",
    "outp = EventPreprocessor(data,'tree')\n",
    "outp.CombineMultiple(['data_ch','data_md'],'datatotal')\n",
    "outp.WriteFile('datatotal',output_path + 'data_BDT.root')"
   ]
  },
  {
   "cell_type": "code",
   "execution_count": 23,
   "metadata": {},
   "outputs": [],
   "source": [
    "del outp, data"
   ]
  },
  {
   "cell_type": "markdown",
   "metadata": {},
   "source": [
    "# Running on CONT"
   ]
  },
  {
   "cell_type": "code",
   "execution_count": 24,
   "metadata": {},
   "outputs": [],
   "source": [
    "mainpath = '/scratch/lcao1/Mac_code/dataset_2020/BDT/input_ready/'\n",
    "df_charm=read_root(mainpath +'charm_presel.root','tree')\n",
    "df_uds=read_root(mainpath +'uds_presel.root','tree')"
   ]
  },
  {
   "cell_type": "code",
   "execution_count": 25,
   "metadata": {},
   "outputs": [],
   "source": [
    "import matplotlib.pyplot as plt\n",
    "import pandas as pd\n",
    "import numpy as np\n",
    "\n",
    "from BDT.EventPreprocessor import EventPreprocessor\n",
    "\n",
    "\n",
    "data = { 'charm' : df_charm,\n",
    "         'uds' : df_uds}\n",
    "\n",
    "# Do common event processing on datasets \n",
    "p = EventPreprocessor(data,'tree',usereadroot=False)\n",
    "\n",
    "p.Combine(('uds','uds'),('charm','c'),'cont','BMeson')\n",
    "\n",
    "\n",
    "\n",
    "# Get data back from event processor split into ulnu and clnu \n",
    "cont = p.GetDataframe('cont')\n",
    "\n",
    "# Split into B0 and B+\n",
    "B0_cont_data = cont.query('((abs(btag_pcode_b) == 511))')\n",
    "BP_cont_data = cont.query('((abs(btag_pcode_b) != 511))')\n"
   ]
  },
  {
   "cell_type": "code",
   "execution_count": 26,
   "metadata": {},
   "outputs": [],
   "source": [
    "#from importlib import reload \n",
    "import BDT\n",
    "#reload(BDT.XGBoostInference)\n",
    "from BDT.XGBoostInference import XGBoostInference\n",
    "features = ['gmiss_m2', 'event_q','event_nk', 'event_nks', 'veto_slowCharPi_missM2', 'veto_slowNeuPi_missM2', 'vertexfit', 'veto_slowNeuPi_cos_ThetaC', 'veto_slowCharPi_cos_ThetaC', 'veto_slowCharPi_cos_BY', 'veto_slowNeuPi_cos_BY']\n",
    "B0_inferer = XGBoostInference(output_path + 'mixed_BDT',features)\n",
    "BP_inferer = XGBoostInference(output_path + 'charged_BDT',features)\n",
    "B0_inferer.SetData(B0_cont_data)\n",
    "B0_inferer.Apply()\n",
    "BP_inferer.SetData(BP_cont_data)\n",
    "BP_inferer.Apply()\n"
   ]
  },
  {
   "cell_type": "code",
   "execution_count": 27,
   "metadata": {},
   "outputs": [],
   "source": [
    "from BDT.EventPreprocessor import EventPreprocessor\n",
    "data = {}\n",
    "data['cont_ch'] = BP_inferer.GetData()\n",
    "data['cont_md'] = B0_inferer.GetData()\n",
    "outp = EventPreprocessor(data,'tree')\n",
    "outp.CombineMultiple(['cont_ch','cont_md'],'cont')\n",
    "outp.ApplyOneMask(\"BMeson == 'c'\",'cont','charm')\n",
    "outp.ApplyOneMask(\"BMeson == 'uds'\",'cont','uds')\n",
    "outp.WriteFile('charm',output_path + 'charm_BDT.root')\n",
    "outp.WriteFile('uds',output_path + 'uds_BDT.root')"
   ]
  },
  {
   "cell_type": "code",
   "execution_count": 28,
   "metadata": {},
   "outputs": [],
   "source": [
    "del outp, data"
   ]
  },
  {
   "cell_type": "markdown",
   "metadata": {},
   "source": [
    "# Running on the rest generic"
   ]
  },
  {
   "cell_type": "code",
   "execution_count": 35,
   "metadata": {},
   "outputs": [],
   "source": [
    "mainpath = '/scratch/lcao1/Mac_code/dataset_2020/BDT/input_ready/'\n",
    "df_ch_rest = read_root(mainpath +'c_ch_presel_rest.root','tree')\n",
    "#df_md_rest =read_root(mainpath +'c_md_presel_rest.root','tree')\n",
    "df_data = df_ch_rest"
   ]
  },
  {
   "cell_type": "code",
   "execution_count": 37,
   "metadata": {},
   "outputs": [],
   "source": [
    "import BDT\n",
    "from BDT.EventPreprocessor import EventPreprocessor\n",
    "import numpy as np\n",
    "df_data['Index']= df_data.index\n",
    "data = { \n",
    "        'data' : df_data\n",
    "\n",
    "}\n",
    "p = EventPreprocessor(data,'tree')\n",
    "\n",
    "\n",
    "data = p.GetDataframe('data')\n",
    "\n",
    "# Split into B0 and B+\n",
    "B0_data = data.query('((abs(btag_pcode_b) == 511))')\n",
    "BP_data = data.query('((abs(btag_pcode_b) != 511))')"
   ]
  },
  {
   "cell_type": "code",
   "execution_count": 38,
   "metadata": {},
   "outputs": [],
   "source": [
    "import BDT\n",
    "#reload(BDT.XGBoostInference)\n",
    "from BDT.XGBoostInference import XGBoostInference\n",
    "features = ['gmiss_m2','event_q','event_nk', 'event_nks', 'veto_slowCharPi_missM2', 'veto_slowNeuPi_missM2', 'vertexfit', 'veto_slowNeuPi_cos_ThetaC', 'veto_slowCharPi_cos_ThetaC', 'veto_slowCharPi_cos_BY', 'veto_slowNeuPi_cos_BY']\n",
    "B0_inferer = XGBoostInference(output_path + 'mixed_BDT',features)\n",
    "BP_inferer = XGBoostInference(output_path + 'charged_BDT',features)\n",
    "B0_inferer.SetData(B0_data)\n",
    "B0_inferer.Apply()\n",
    "BP_inferer.SetData(BP_data)\n",
    "BP_inferer.Apply()"
   ]
  },
  {
   "cell_type": "code",
   "execution_count": 39,
   "metadata": {},
   "outputs": [],
   "source": [
    "from BDT.EventPreprocessor import EventPreprocessor\n",
    "\n",
    "data = {}\n",
    "data['data_ch'] = BP_inferer.GetData()\n",
    "data['data_md'] = B0_inferer.GetData()\n",
    "outp = EventPreprocessor(data,'tree')\n",
    "outp.CombineMultiple(['data_ch','data_md'],'datatotal')\n",
    "outp.WriteFile('datatotal',output_path + 'clnu_ch_rest_BDT.root')"
   ]
  },
  {
   "cell_type": "code",
   "execution_count": 40,
   "metadata": {},
   "outputs": [],
   "source": [
    "del outp, data, df_data, BP_inferer, B0_inferer"
   ]
  },
  {
   "cell_type": "markdown",
   "metadata": {},
   "source": [
    "Combine two parts of clnu"
   ]
  },
  {
   "cell_type": "code",
   "execution_count": 3,
   "metadata": {},
   "outputs": [],
   "source": [
    "ch_500k = read_root(output_path +'clnu_ch_sub_BDT.root','tree')\n",
    "ch_rest = read_root(output_path +'clnu_ch_rest_BDT.root','tree')\n",
    "\n",
    "ch_rest['TestTrainWeight'] =1\n",
    "ch_rest['Train'] =0"
   ]
  },
  {
   "cell_type": "code",
   "execution_count": 4,
   "metadata": {},
   "outputs": [],
   "source": [
    "ch_all = ch_500k.append(ch_rest)"
   ]
  },
  {
   "cell_type": "code",
   "execution_count": 5,
   "metadata": {},
   "outputs": [],
   "source": [
    "del ch_500k, ch_rest"
   ]
  },
  {
   "cell_type": "code",
   "execution_count": 6,
   "metadata": {},
   "outputs": [],
   "source": [
    "for i in ch_all.columns:\n",
    "    if \"FF\" in i :       \n",
    "        ch_all[i] = ch_all[i].fillna(1)"
   ]
  },
  {
   "cell_type": "code",
   "execution_count": 7,
   "metadata": {},
   "outputs": [],
   "source": [
    "ch_all.to_root(output_path +'clnu_ch_BDT.root','tree')"
   ]
  },
  {
   "cell_type": "code",
   "execution_count": 11,
   "metadata": {},
   "outputs": [],
   "source": [
    "del ch_all"
   ]
  },
  {
   "cell_type": "code",
   "execution_count": 12,
   "metadata": {},
   "outputs": [],
   "source": [
    "md_500k = read_root(output_path +'clnu_md_sub_BDT.root','tree')\n",
    "md_rest = read_root(output_path +'clnu_md_rest_BDT.root','tree')\n",
    "md_rest['TestTrainWeight'] =1\n",
    "md_rest['Train'] =0"
   ]
  },
  {
   "cell_type": "code",
   "execution_count": 15,
   "metadata": {},
   "outputs": [
    {
     "data": {
      "text/plain": [
       "30291"
      ]
     },
     "execution_count": 15,
     "metadata": {},
     "output_type": "execute_result"
    }
   ],
   "source": [
    "len(md_all.loc[md_all.Train==1,:])"
   ]
  },
  {
   "cell_type": "code",
   "execution_count": 13,
   "metadata": {},
   "outputs": [],
   "source": [
    "md_all = md_500k.append(md_rest)\n",
    "del md_500k,md_rest"
   ]
  },
  {
   "cell_type": "code",
   "execution_count": 16,
   "metadata": {},
   "outputs": [],
   "source": [
    "for i in md_all.columns:\n",
    "    if \"FF\" in i :    \n",
    "        md_all[i] = md_all[i].fillna(1)"
   ]
  },
  {
   "cell_type": "code",
   "execution_count": 17,
   "metadata": {},
   "outputs": [],
   "source": [
    "md_all.to_root(output_path +'clnu_md_BDT.root','tree')"
   ]
  },
  {
   "cell_type": "code",
   "execution_count": null,
   "metadata": {},
   "outputs": [],
   "source": []
  },
  {
   "cell_type": "markdown",
   "metadata": {},
   "source": [
    "Running on the other ulnu"
   ]
  },
  {
   "cell_type": "code",
   "execution_count": 3,
   "metadata": {},
   "outputs": [],
   "source": [
    "mainpath = '/scratch/lcao1/Mac_code/dataset_2020/mc_ulnu/combined_hybrid/'\n",
    "#mainpath = '/scratch/lcao1/Mac_code/dataset_2020/specialMC/mcCorr/'\n",
    "df_ulnu_ch = read_root(mainpath +'output_hybrid_charged_DFNssDown_20200917_10s_all_mcCorr_FF_wHySys.root','tree',\n",
    "                    where='presel_gen==1')\n",
    "df_ulnu_md = read_root(mainpath +'output_hybrid_mixed_DFNssDown_20200917_10s_all_mcCorr_FF_wHySys.root','tree',\n",
    "                    where='presel_gen==1')"
   ]
  },
  {
   "cell_type": "code",
   "execution_count": 4,
   "metadata": {},
   "outputs": [
    {
     "name": "stderr",
     "output_type": "stream",
     "text": [
      "/gpfs/share/home/lcao1/.local/lib/python3.6/site-packages/pandas/core/series.py:679: RuntimeWarning: invalid value encountered in log10\n",
      "  result = getattr(ufunc, method)(*inputs, **kwargs)\n"
     ]
    }
   ],
   "source": [
    "# skip this cell for speicalMC\n",
    "df_ulnu_ch = ulnu_BR(df_ulnu_ch, 'truth_xu_pdg')\n",
    "df_ulnu_ch= add_b2u_weights(df_ulnu_ch)\n",
    "\n",
    "df_ulnu_md = ulnu_BR(df_ulnu_md, 'truth_xu_pdg')\n",
    "df_ulnu_md= add_b2u_weights(df_ulnu_md)\n",
    "\n",
    "df_ulnu_ch = fill_nan_Xc_col(df_ulnu_ch)\n",
    "df_ulnu_md = fill_nan_Xc_col(df_ulnu_md)\n",
    "\n",
    "df_ulnu_ch = manage_variables(df_ulnu_ch)\n",
    "df_ulnu_md = manage_variables(df_ulnu_md)"
   ]
  },
  {
   "cell_type": "code",
   "execution_count": 5,
   "metadata": {},
   "outputs": [],
   "source": [
    "def get_all_norm_w(df):\n",
    "    tot_central_weight = 1.\n",
    "    \n",
    "    for i in ['PID_w_0', 'ks_w_0', 'slowpi_w_0', 'tag_w_0', \n",
    "              'hybrid_weights', '_b2u_FF_weight_',\n",
    "              'C_B_fcen',\n",
    "              'Xc_BR_0',\n",
    "              'Dlnu_FF_weight', \n",
    "              'Dstlnu_FF_weight', \n",
    "              'FF_Done_nominal','FF_Dprimeone_nominal','FF_Dzerostar_nominal','FF_Dtwostar_nominal'\n",
    "             ]:\n",
    "        \n",
    "        if i in df.columns:\n",
    "            \n",
    "            if df[i].isnull().any() :\n",
    "            \n",
    "                df[i] = df[i].fillna(1)\n",
    "            tot_central_weight *= df[i]\n",
    "           \n",
    "     \n",
    "    df['tot_w_0'] = tot_central_weight\n",
    "    return df\n",
    "\n",
    "def clean_nan_in_var(df):\n",
    "    \n",
    "    df['TestTrainWeight'] =1\n",
    "    df['Train'] =0\n",
    "    \n",
    "    keys = df.columns[df.columns.str.startswith(pat = 'veto_slow')]\n",
    "    for i in keys:\n",
    "         if df[i].isnull().any() :\n",
    "            \n",
    "                df[i] = df[i].fillna(10000)\n",
    "    return df"
   ]
  },
  {
   "cell_type": "code",
   "execution_count": 6,
   "metadata": {},
   "outputs": [],
   "source": [
    "df_ulnu_ch = get_all_norm_w(df_ulnu_ch)\n",
    "df_ulnu_md = get_all_norm_w(df_ulnu_md)\n",
    "\n",
    "df_ulnu_ch['f_stream'] = 1/10 #1/10   # specialMC: 1/20\n",
    "df_ulnu_md['f_stream'] = 1/10 #1/10\n",
    "\n",
    "df_ulnu_ch = clean_nan_in_var(df_ulnu_ch)\n",
    "df_ulnu_md = clean_nan_in_var(df_ulnu_md)"
   ]
  },
  {
   "cell_type": "code",
   "execution_count": 7,
   "metadata": {},
   "outputs": [],
   "source": [
    "import matplotlib.pyplot as plt\n",
    "import pandas as pd\n",
    "import numpy as np\n",
    "\n",
    "from BDT.EventPreprocessor import EventPreprocessor\n",
    "\n",
    "\n",
    "data = { 'charged' : df_ulnu_ch,\n",
    "         'mixed' : df_ulnu_md}\n",
    "\n",
    "# Do common event processing on datasets \n",
    "p = EventPreprocessor(data,'tree',usereadroot=False)\n",
    "\n",
    "p.Combine(('charged','charged'),('mixed','mixed'),'com','BMeson')\n",
    "\n",
    "\n",
    "\n",
    "# Get data back from event processor split into ulnu and clnu \n",
    "cont = p.GetDataframe('com')\n",
    "\n",
    "# Split into B0 and B+\n",
    "B0_cont_data = cont.query('((abs(btag_pcode_b) == 511))')\n",
    "BP_cont_data = cont.query('((abs(btag_pcode_b) != 511))')\n"
   ]
  },
  {
   "cell_type": "code",
   "execution_count": 8,
   "metadata": {},
   "outputs": [
    {
     "name": "stderr",
     "output_type": "stream",
     "text": [
      "/gpfs/share/home/lcao1/.local/lib/python3.6/site-packages/pandas/core/indexing.py:845: SettingWithCopyWarning: \n",
      "A value is trying to be set on a copy of a slice from a DataFrame.\n",
      "Try using .loc[row_indexer,col_indexer] = value instead\n",
      "\n",
      "See the caveats in the documentation: https://pandas.pydata.org/pandas-docs/stable/user_guide/indexing.html#returning-a-view-versus-a-copy\n",
      "  self.obj[key] = _infer_fill_value(value)\n",
      "/gpfs/share/home/lcao1/.local/lib/python3.6/site-packages/pandas/core/indexing.py:966: SettingWithCopyWarning: \n",
      "A value is trying to be set on a copy of a slice from a DataFrame.\n",
      "Try using .loc[row_indexer,col_indexer] = value instead\n",
      "\n",
      "See the caveats in the documentation: https://pandas.pydata.org/pandas-docs/stable/user_guide/indexing.html#returning-a-view-versus-a-copy\n",
      "  self.obj[item] = s\n"
     ]
    }
   ],
   "source": [
    "#from importlib import reload \n",
    "import BDT\n",
    "#reload(BDT.XGBoostInference)\n",
    "from BDT.XGBoostInference import XGBoostInference\n",
    "features = ['gmiss_m2', 'event_q','event_nk', 'event_nks', 'veto_slowCharPi_missM2', 'veto_slowNeuPi_missM2', 'vertexfit', 'veto_slowNeuPi_cos_ThetaC', 'veto_slowCharPi_cos_ThetaC', 'veto_slowCharPi_cos_BY', 'veto_slowNeuPi_cos_BY']\n",
    "B0_inferer = XGBoostInference(output_path + 'mixed_BDT',features)\n",
    "BP_inferer = XGBoostInference(output_path + 'charged_BDT',features)\n",
    "B0_inferer.SetData(B0_cont_data)\n",
    "B0_inferer.Apply()\n",
    "BP_inferer.SetData(BP_cont_data)\n",
    "BP_inferer.Apply()\n"
   ]
  },
  {
   "cell_type": "code",
   "execution_count": 9,
   "metadata": {},
   "outputs": [
    {
     "name": "stderr",
     "output_type": "stream",
     "text": [
      "/cvmfs/belle.cern.ch/ubuntu1804/externals/v01-08-00/Linux_x86_64/common/lib/python3.6/site-packages/root_numpy/_tree.py:575: UserWarning: converter for dtype('O') is not implemented (skipping)\n",
      "  cobj = _librootnumpy.array2tree_toCObj(arr, name=name, tree=incobj)\n"
     ]
    }
   ],
   "source": [
    "from BDT.EventPreprocessor import EventPreprocessor\n",
    "data = {}\n",
    "data['com_ch'] = BP_inferer.GetData()\n",
    "data['com_md'] = B0_inferer.GetData()\n",
    "outp = EventPreprocessor(data,'tree')\n",
    "outp.CombineMultiple(['com_ch','com_md'],'com')\n",
    "outp.ApplyOneMask(\"BMeson == 'charged'\",'com','charged')\n",
    "outp.ApplyOneMask(\"BMeson == 'mixed'\",'com','mixed')\n",
    "outp.WriteFile('charged',output_path + 'ulnu_ch_10s_DFNssDown_BDT.root')\n",
    "outp.WriteFile('mixed',output_path + 'ulnu_md_10s_DFNssDown_BDT.root')"
   ]
  },
  {
   "cell_type": "code",
   "execution_count": 10,
   "metadata": {},
   "outputs": [],
   "source": [
    "del data, outp, df_ulnu_ch, df_ulnu_md"
   ]
  },
  {
   "cell_type": "code",
   "execution_count": null,
   "metadata": {},
   "outputs": [],
   "source": []
  }
 ],
 "metadata": {
  "kernelspec": {
   "display_name": "Python 3 (Belle2)",
   "language": "python",
   "name": "python3"
  },
  "language_info": {
   "codemirror_mode": {
    "name": "ipython",
    "version": 3
   },
   "file_extension": ".py",
   "mimetype": "text/x-python",
   "name": "python",
   "nbconvert_exporter": "python",
   "pygments_lexer": "ipython3",
   "version": "3.6.9"
  }
 },
 "nbformat": 4,
 "nbformat_minor": 2
}
